{
 "cells": [
  {
   "cell_type": "code",
   "execution_count": 1,
   "metadata": {},
   "outputs": [],
   "source": [
    "import pandas as pd\n",
    "import numpy as np\n"
   ]
  },
  {
   "cell_type": "code",
   "execution_count": 12,
   "metadata": {},
   "outputs": [
    {
     "name": "stdout",
     "output_type": "stream",
     "text": [
      "Shape :  (1387, 3)\n",
      "Colonnes :  Index(['created_at', 'id', 'text'], dtype='object')\n"
     ]
    },
    {
     "data": {
      "text/html": [
       "<div>\n",
       "<style scoped>\n",
       "    .dataframe tbody tr th:only-of-type {\n",
       "        vertical-align: middle;\n",
       "    }\n",
       "\n",
       "    .dataframe tbody tr th {\n",
       "        vertical-align: top;\n",
       "    }\n",
       "\n",
       "    .dataframe thead th {\n",
       "        text-align: right;\n",
       "    }\n",
       "</style>\n",
       "<table border=\"1\" class=\"dataframe\">\n",
       "  <thead>\n",
       "    <tr style=\"text-align: right;\">\n",
       "      <th></th>\n",
       "      <th>created_at</th>\n",
       "      <th>id</th>\n",
       "      <th>text</th>\n",
       "    </tr>\n",
       "  </thead>\n",
       "  <tbody>\n",
       "    <tr>\n",
       "      <th>0</th>\n",
       "      <td>2023-02-08 13:46:53+00:00</td>\n",
       "      <td>1623317443903987713</td>\n",
       "      <td>Très bon retour spectateurs Allociné pour #ali...</td>\n",
       "    </tr>\n",
       "    <tr>\n",
       "      <th>1</th>\n",
       "      <td>2023-02-08 13:42:54+00:00</td>\n",
       "      <td>1623316442069233664</td>\n",
       "      <td>J’vous jure c’est ni une aventure, ni une comé...</td>\n",
       "    </tr>\n",
       "    <tr>\n",
       "      <th>2</th>\n",
       "      <td>2023-02-08 13:37:09+00:00</td>\n",
       "      <td>1623314995378356230</td>\n",
       "      <td>📚 Dans les librairies\\nÀ découvrir dès aujourd...</td>\n",
       "    </tr>\n",
       "    <tr>\n",
       "      <th>3</th>\n",
       "      <td>2023-02-08 13:21:26+00:00</td>\n",
       "      <td>1623311040099262466</td>\n",
       "      <td>@CarrefourFrance Bonjour, je participe pour te...</td>\n",
       "    </tr>\n",
       "    <tr>\n",
       "      <th>4</th>\n",
       "      <td>2023-02-08 12:58:20+00:00</td>\n",
       "      <td>1623305227460919297</td>\n",
       "      <td>@CarrefourFrance #AsterixEtObelixLEmpireDuMili...</td>\n",
       "    </tr>\n",
       "  </tbody>\n",
       "</table>\n",
       "</div>"
      ],
      "text/plain": [
       "                  created_at                   id  \\\n",
       "0  2023-02-08 13:46:53+00:00  1623317443903987713   \n",
       "1  2023-02-08 13:42:54+00:00  1623316442069233664   \n",
       "2  2023-02-08 13:37:09+00:00  1623314995378356230   \n",
       "3  2023-02-08 13:21:26+00:00  1623311040099262466   \n",
       "4  2023-02-08 12:58:20+00:00  1623305227460919297   \n",
       "\n",
       "                                                text  \n",
       "0  Très bon retour spectateurs Allociné pour #ali...  \n",
       "1  J’vous jure c’est ni une aventure, ni une comé...  \n",
       "2  📚 Dans les librairies\\nÀ découvrir dès aujourd...  \n",
       "3  @CarrefourFrance Bonjour, je participe pour te...  \n",
       "4  @CarrefourFrance #AsterixEtObelixLEmpireDuMili...  "
      ]
     },
     "execution_count": 12,
     "metadata": {},
     "output_type": "execute_result"
    }
   ],
   "source": [
    "df1 = pd.read_csv(\"Tweet_Asterix.csv\", sep = \";\", usecols= [\"created_at\", \"id\", \"text\"])\n",
    "print(\"Shape : \", df1.shape)\n",
    "print(\"Colonnes : \", df1.columns)\n",
    "df1.head()"
   ]
  },
  {
   "cell_type": "code",
   "execution_count": 14,
   "metadata": {},
   "outputs": [
    {
     "data": {
      "text/html": [
       "<div>\n",
       "<style scoped>\n",
       "    .dataframe tbody tr th:only-of-type {\n",
       "        vertical-align: middle;\n",
       "    }\n",
       "\n",
       "    .dataframe tbody tr th {\n",
       "        vertical-align: top;\n",
       "    }\n",
       "\n",
       "    .dataframe thead th {\n",
       "        text-align: right;\n",
       "    }\n",
       "</style>\n",
       "<table border=\"1\" class=\"dataframe\">\n",
       "  <thead>\n",
       "    <tr style=\"text-align: right;\">\n",
       "      <th></th>\n",
       "      <th>Date</th>\n",
       "      <th>id</th>\n",
       "      <th>text</th>\n",
       "    </tr>\n",
       "  </thead>\n",
       "  <tbody>\n",
       "    <tr>\n",
       "      <th>0</th>\n",
       "      <td>2023-02-08</td>\n",
       "      <td>1623317443903987713</td>\n",
       "      <td>Très bon retour spectateurs Allociné pour #ali...</td>\n",
       "    </tr>\n",
       "    <tr>\n",
       "      <th>1</th>\n",
       "      <td>2023-02-08</td>\n",
       "      <td>1623316442069233664</td>\n",
       "      <td>J’vous jure c’est ni une aventure, ni une comé...</td>\n",
       "    </tr>\n",
       "    <tr>\n",
       "      <th>2</th>\n",
       "      <td>2023-02-08</td>\n",
       "      <td>1623314995378356230</td>\n",
       "      <td>📚 Dans les librairies\\nÀ découvrir dès aujourd...</td>\n",
       "    </tr>\n",
       "    <tr>\n",
       "      <th>3</th>\n",
       "      <td>2023-02-08</td>\n",
       "      <td>1623311040099262466</td>\n",
       "      <td>@CarrefourFrance Bonjour, je participe pour te...</td>\n",
       "    </tr>\n",
       "    <tr>\n",
       "      <th>4</th>\n",
       "      <td>2023-02-08</td>\n",
       "      <td>1623305227460919297</td>\n",
       "      <td>@CarrefourFrance #AsterixEtObelixLEmpireDuMili...</td>\n",
       "    </tr>\n",
       "  </tbody>\n",
       "</table>\n",
       "</div>"
      ],
      "text/plain": [
       "         Date                   id  \\\n",
       "0  2023-02-08  1623317443903987713   \n",
       "1  2023-02-08  1623316442069233664   \n",
       "2  2023-02-08  1623314995378356230   \n",
       "3  2023-02-08  1623311040099262466   \n",
       "4  2023-02-08  1623305227460919297   \n",
       "\n",
       "                                                text  \n",
       "0  Très bon retour spectateurs Allociné pour #ali...  \n",
       "1  J’vous jure c’est ni une aventure, ni une comé...  \n",
       "2  📚 Dans les librairies\\nÀ découvrir dès aujourd...  \n",
       "3  @CarrefourFrance Bonjour, je participe pour te...  \n",
       "4  @CarrefourFrance #AsterixEtObelixLEmpireDuMili...  "
      ]
     },
     "execution_count": 14,
     "metadata": {},
     "output_type": "execute_result"
    }
   ],
   "source": [
    "# We remove hours\n",
    "def date_format(df):\n",
    "    df[\"created_at\"] = df[\"created_at\"].str[:10]\n",
    "    df = df.rename(columns = { \"created_at\" :\"Date\" })\n",
    "    return df\n",
    "\n",
    "df1 = date_format(df1)\n",
    "df1.head()"
   ]
  },
  {
   "cell_type": "code",
   "execution_count": null,
   "metadata": {},
   "outputs": [],
   "source": []
  },
  {
   "cell_type": "code",
   "execution_count": 7,
   "metadata": {},
   "outputs": [
    {
     "data": {
      "text/plain": [
       "False"
      ]
     },
     "execution_count": 7,
     "metadata": {},
     "output_type": "execute_result"
    }
   ],
   "source": [
    "#We check duplicata :\n",
    "\n",
    "def check_duplicate(df):\n",
    "    return df.duplicated().any()\n",
    "\n",
    "check_duplicate(df1)"
   ]
  },
  {
   "cell_type": "code",
   "execution_count": null,
   "metadata": {},
   "outputs": [],
   "source": []
  },
  {
   "cell_type": "code",
   "execution_count": null,
   "metadata": {},
   "outputs": [],
   "source": []
  },
  {
   "cell_type": "code",
   "execution_count": null,
   "metadata": {},
   "outputs": [],
   "source": []
  }
 ],
 "metadata": {
  "kernelspec": {
   "display_name": "text_mining",
   "language": "python",
   "name": "python3"
  },
  "language_info": {
   "codemirror_mode": {
    "name": "ipython",
    "version": 3
   },
   "file_extension": ".py",
   "mimetype": "text/x-python",
   "name": "python",
   "nbconvert_exporter": "python",
   "pygments_lexer": "ipython3",
   "version": "3.9.16"
  },
  "orig_nbformat": 4,
  "vscode": {
   "interpreter": {
    "hash": "06eabc783dd5dfb05391a45ad566d526d172a45604809b780954472fc6bd1fe2"
   }
  }
 },
 "nbformat": 4,
 "nbformat_minor": 2
}
